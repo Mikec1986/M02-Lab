{
 "cells": [
  {
   "cell_type": "code",
   "execution_count": null,
   "id": "a0725812",
   "metadata": {},
   "outputs": [
    {
     "name": "stdout",
     "output_type": "stream",
     "text": [
      "Please enter the student's last name or type ZZZ to quit: Coughlin\n",
      "Please enter the student's first name: Mike\n",
      "Please enter the student's GPA: 4.0\n",
      "Mike Coughlin has made the Dean's List!\n",
      "Please enter the student's last name or type ZZZ to quit: Jones\n",
      "Please enter the student's first name: Scott\n",
      "Please enter the student's GPA: 3.3\n",
      "Scott Jones has made the Honor Roll!\n",
      "Please enter the student's last name or type ZZZ to quit: Smith\n",
      "Please enter the student's first name: John\n",
      "Please enter the student's GPA: 3.6\n",
      "John Smith has made the Dean's List!\n",
      "Please enter the student's last name or type ZZZ to quit: Martin\n",
      "Please enter the student's first name: Danny\n",
      "Please enter the student's GPA: 3.0\n",
      "Please enter the student's last name or type ZZZ to quit: Ivy\n",
      "Please enter the student's first name: Coughlin\n",
      "Please enter the student's GPA: 3.7\n",
      "Coughlin Ivy has made the Dean's List!\n"
     ]
    }
   ],
   "source": [
    "#Michael Coughlin\n",
    "#Academic Achievement Test\n",
    "#This program will ask the user for a first and last name along with their GPA. \n",
    "#It will then output if the student made the Dean's List or Honor Roll\n",
    "\n",
    "while True:\n",
    "    Lname = input(\"Please enter the student's last name or type ZZZ to quit: \")\n",
    "    if Lname == \"ZZZ\" or Lname == \"zzz\":\n",
    "        break\n",
    "        \n",
    "    Fname = input(\"Please enter the student's first name: \")\n",
    "    gpa = input(\"Please enter the student's GPA: \")\n",
    "    \n",
    "    if float(gpa) >= 3.5:\n",
    "        print(str(Fname), str(Lname), \"has made the Dean's List!\")\n",
    "    elif float(gpa) >= 3.25:\n",
    "        print(Fname, Lname, \"has made the Honor Roll!\")\n",
    "        \n",
    "    "
   ]
  },
  {
   "cell_type": "code",
   "execution_count": null,
   "id": "f0209130",
   "metadata": {},
   "outputs": [],
   "source": []
  }
 ],
 "metadata": {
  "kernelspec": {
   "display_name": "Python 3 (ipykernel)",
   "language": "python",
   "name": "python3"
  },
  "language_info": {
   "codemirror_mode": {
    "name": "ipython",
    "version": 3
   },
   "file_extension": ".py",
   "mimetype": "text/x-python",
   "name": "python",
   "nbconvert_exporter": "python",
   "pygments_lexer": "ipython3",
   "version": "3.11.4"
  }
 },
 "nbformat": 4,
 "nbformat_minor": 5
}
